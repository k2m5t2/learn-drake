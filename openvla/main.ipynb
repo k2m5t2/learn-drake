{
 "cells": [
  {
   "cell_type": "markdown",
   "metadata": {},
   "source": [
    "Setup"
   ]
  },
  {
   "cell_type": "code",
   "execution_count": 1,
   "metadata": {},
   "outputs": [],
   "source": [
    "import copy\n",
    "import os\n",
    "\n",
    "import matplotlib.pyplot as plt\n",
    "import matplotlib as mpl\n",
    "import numpy as np\n",
    "\n",
    "from pydrake.geometry import (\n",
    "    ClippingRange,\n",
    "    ColorRenderCamera,\n",
    "    DepthRange,\n",
    "    DepthRenderCamera,\n",
    "    MakeRenderEngineVtk,\n",
    "    RenderCameraCore,\n",
    "    RenderEngineVtkParams,\n",
    "    RenderLabel,\n",
    "    Role,\n",
    "    StartMeshcat,\n",
    ")\n",
    "from pydrake.math import RigidTransform, RollPitchYaw\n",
    "from pydrake.multibody.parsing import Parser, PackageMap\n",
    "from pydrake.multibody.plant import AddMultibodyPlantSceneGraph\n",
    "from pydrake.multibody.tree import BodyIndex\n",
    "from pydrake.systems.analysis import Simulator\n",
    "from pydrake.systems.framework import DiagramBuilder\n",
    "from pydrake.systems.sensors import (\n",
    "    CameraInfo,\n",
    "    RgbdSensor,\n",
    ")\n",
    "from pydrake.visualization import (\n",
    "    AddDefaultVisualization,\n",
    "    ColorizeDepthImage,\n",
    "    ColorizeLabelImage,\n",
    ")\n",
    "\n",
    "from manipulation.utils import RenderDiagram\n",
    "\n",
    "from pathlib import Path"
   ]
  },
  {
   "cell_type": "code",
   "execution_count": 2,
   "metadata": {},
   "outputs": [],
   "source": [
    "# helpers\n",
    "def xyz_rpy_deg(xyz, rpy_deg):\n",
    "    \"\"\"Shorthand for defining a pose.\"\"\"\n",
    "    rpy_deg = np.asarray(rpy_deg)\n",
    "    return RigidTransform(RollPitchYaw(rpy_deg * np.pi / 180), xyz)"
   ]
  },
  {
   "cell_type": "code",
   "execution_count": 3,
   "metadata": {},
   "outputs": [],
   "source": [
    "URDF_FILE = \"./urdf/wx250s.urdf\"\n",
    "# BASE_LINK_NAME = \"base_link\""
   ]
  },
  {
   "cell_type": "code",
   "execution_count": 4,
   "metadata": {},
   "outputs": [],
   "source": [
    "# pm = PackageMap()\n",
    "# pm.Add(\"interbotix_xsarm_descriptions\", \".\")"
   ]
  },
  {
   "cell_type": "code",
   "execution_count": 5,
   "metadata": {},
   "outputs": [
    {
     "name": "stderr",
     "output_type": "stream",
     "text": [
      "INFO:drake:Meshcat listening for connections at http://localhost:7001\n"
     ]
    }
   ],
   "source": [
    "meshcat = StartMeshcat()"
   ]
  },
  {
   "cell_type": "code",
   "execution_count": 6,
   "metadata": {},
   "outputs": [],
   "source": [
    "# create diagram builder with plant and scene graph\n",
    "builder = DiagramBuilder()\n",
    "plant, scene_graph = AddMultibodyPlantSceneGraph(builder, time_step=0.0)"
   ]
  },
  {
   "cell_type": "code",
   "execution_count": 7,
   "metadata": {},
   "outputs": [
    {
     "name": "stderr",
     "output_type": "stream",
     "text": [
      "WARNING:drake:Explicitly defined values for the ('phong', 'diffuse_map') property are not currently used in illustration roles -- only perception roles\n",
      "WARNING:drake:/Users/yunhocho/Documents/GitHub/learn-drake/openvla/./urdf/wx250s.urdf:36: warning: A joint has specified a non-zero value for the 'friction' attribute of a joint/dynamics tag. MultibodyPlant does not currently support non-zero joint friction.\n",
      "WARNING:drake:/Users/yunhocho/Documents/GitHub/learn-drake/openvla/./urdf/wx250s.urdf:73: warning: A joint has specified a non-zero value for the 'friction' attribute of a joint/dynamics tag. MultibodyPlant does not currently support non-zero joint friction.\n",
      "WARNING:drake:/Users/yunhocho/Documents/GitHub/learn-drake/openvla/./urdf/wx250s.urdf:110: warning: A joint has specified a non-zero value for the 'friction' attribute of a joint/dynamics tag. MultibodyPlant does not currently support non-zero joint friction.\n",
      "WARNING:drake:/Users/yunhocho/Documents/GitHub/learn-drake/openvla/./urdf/wx250s.urdf:147: warning: A joint has specified a non-zero value for the 'friction' attribute of a joint/dynamics tag. MultibodyPlant does not currently support non-zero joint friction.\n",
      "WARNING:drake:/Users/yunhocho/Documents/GitHub/learn-drake/openvla/./urdf/wx250s.urdf:184: warning: A joint has specified a non-zero value for the 'friction' attribute of a joint/dynamics tag. MultibodyPlant does not currently support non-zero joint friction.\n",
      "WARNING:drake:/Users/yunhocho/Documents/GitHub/learn-drake/openvla/./urdf/wx250s.urdf:221: warning: A joint has specified a non-zero value for the 'friction' attribute of a joint/dynamics tag. MultibodyPlant does not currently support non-zero joint friction.\n",
      "WARNING:drake:/Users/yunhocho/Documents/GitHub/learn-drake/openvla/./urdf/wx250s.urdf:270: warning: A joint has specified a non-zero value for the 'friction' attribute of a joint/dynamics tag. MultibodyPlant does not currently support non-zero joint friction.\n",
      "WARNING:drake:/Users/yunhocho/Documents/GitHub/learn-drake/openvla/./urdf/wx250s.urdf:348: warning: A joint has specified a non-zero value for the 'friction' attribute of a joint/dynamics tag. MultibodyPlant does not currently support non-zero joint friction.\n",
      "WARNING:drake:/Users/yunhocho/Documents/GitHub/learn-drake/openvla/./urdf/wx250s.urdf:385: warning: A joint has specified a non-zero value for the 'friction' attribute of a joint/dynamics tag. MultibodyPlant does not currently support non-zero joint friction.\n",
      "WARNING:drake:/Users/yunhocho/Documents/GitHub/learn-drake/openvla/./urdf/wx250s.urdf:386: warning: Joint 'right_finger' specifies a mimic element that will be ignored. Mimic elements are currently only supported by MultibodyPlant with a discrete time step and using DiscreteContactSolver::kSap.\n"
     ]
    },
    {
     "ename": "TypeError",
     "evalue": "WeldFrames(): incompatible function arguments. The following argument types are supported:\n    1. (self: pydrake.multibody.plant.MultibodyPlant, frame_on_parent_F: pydrake.multibody.tree.Frame, frame_on_child_M: pydrake.multibody.tree.Frame, X_FM: pydrake.math.RigidTransform = RigidTransform(\n  R=RotationMatrix([\n    [1.0, 0.0, 0.0],\n    [0.0, 1.0, 0.0],\n    [0.0, 0.0, 1.0],\n  ]),\n  p=[0.0, 0.0, 0.0],\n)) -> pydrake.multibody.tree.WeldJoint\n\nInvoked with: <pydrake.multibody.plant.MultibodyPlant object at 0x10fe8ea70>; kwargs: frame_on_parent_F=<RigidBodyFrame name='world' index=0 model_instance=0>",
     "output_type": "error",
     "traceback": [
      "\u001b[0;31m---------------------------------------------------------------------------\u001b[0m",
      "\u001b[0;31mTypeError\u001b[0m                                 Traceback (most recent call last)",
      "Cell \u001b[0;32mIn[7], line 11\u001b[0m\n\u001b[1;32m      7\u001b[0m pkg_map\u001b[38;5;241m.\u001b[39mAdd(\u001b[38;5;124m\"\u001b[39m\u001b[38;5;124minterbotix_xsarm_descriptions\u001b[39m\u001b[38;5;124m\"\u001b[39m, \u001b[38;5;28mstr\u001b[39m(Path()\u001b[38;5;241m.\u001b[39mcwd()))\n\u001b[1;32m      9\u001b[0m (robot,) \u001b[38;5;241m=\u001b[39m parser\u001b[38;5;241m.\u001b[39mAddModels(URDF_FILE)\n\u001b[0;32m---> 11\u001b[0m \u001b[43mplant\u001b[49m\u001b[38;5;241;43m.\u001b[39;49m\u001b[43mWeldFrames\u001b[49m\u001b[43m(\u001b[49m\n\u001b[1;32m     12\u001b[0m \u001b[43m    \u001b[49m\u001b[43mframe_on_parent_F\u001b[49m\u001b[38;5;241;43m=\u001b[39;49m\u001b[43mplant\u001b[49m\u001b[38;5;241;43m.\u001b[39;49m\u001b[43mworld_frame\u001b[49m\u001b[43m(\u001b[49m\u001b[43m)\u001b[49m\u001b[43m,\u001b[49m\n\u001b[1;32m     13\u001b[0m \u001b[43m    \u001b[49m\u001b[38;5;66;43;03m# frame_on_child_M=plant.GetFrameByName(f\"{BASE_LINK_NAME}\", robot)\u001b[39;49;00m\n\u001b[1;32m     14\u001b[0m \u001b[43m)\u001b[49m\n",
      "\u001b[0;31mTypeError\u001b[0m: WeldFrames(): incompatible function arguments. The following argument types are supported:\n    1. (self: pydrake.multibody.plant.MultibodyPlant, frame_on_parent_F: pydrake.multibody.tree.Frame, frame_on_child_M: pydrake.multibody.tree.Frame, X_FM: pydrake.math.RigidTransform = RigidTransform(\n  R=RotationMatrix([\n    [1.0, 0.0, 0.0],\n    [0.0, 1.0, 0.0],\n    [0.0, 0.0, 1.0],\n  ]),\n  p=[0.0, 0.0, 0.0],\n)) -> pydrake.multibody.tree.WeldJoint\n\nInvoked with: <pydrake.multibody.plant.MultibodyPlant object at 0x10fe8ea70>; kwargs: frame_on_parent_F=<RigidBodyFrame name='world' index=0 model_instance=0>"
     ]
    }
   ],
   "source": [
    "# add robot\n",
    "parser = Parser(plant, f\"{URDF_FILE}\")\n",
    "\n",
    "# flatten ROS package reference to local file paths\n",
    "pkg_map = parser.package_map()\n",
    "# pkg_map.Add(\"interbotix_xsarm_descriptions\", \".\")\n",
    "pkg_map.Add(\"interbotix_xsarm_descriptions\", str(Path().cwd()))\n",
    "\n",
    "(robot,) = parser.AddModels(URDF_FILE)\n",
    "\n",
    "plant.WeldFrames(\n",
    "    frame_on_parent_F=plant.world_frame(),\n",
    "    # frame_on_child_M=plant.GetFrameByName(f\"{BASE_LINK_NAME}\", robot)\n",
    ")"
   ]
  },
  {
   "cell_type": "code",
   "execution_count": null,
   "metadata": {},
   "outputs": [],
   "source": []
  }
 ],
 "metadata": {
  "kernelspec": {
   "display_name": "Python 3",
   "language": "python",
   "name": "python3"
  },
  "language_info": {
   "codemirror_mode": {
    "name": "ipython",
    "version": 3
   },
   "file_extension": ".py",
   "mimetype": "text/x-python",
   "name": "python",
   "nbconvert_exporter": "python",
   "pygments_lexer": "ipython3",
   "version": "3.12.4"
  }
 },
 "nbformat": 4,
 "nbformat_minor": 2
}
