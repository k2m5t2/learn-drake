{
 "cells": [
  {
   "cell_type": "code",
   "execution_count": 1,
   "metadata": {},
   "outputs": [],
   "source": [
    "import copy\n",
    "import os\n",
    "\n",
    "import matplotlib.pyplot as plt\n",
    "import matplotlib as mpl\n",
    "import numpy as np\n",
    "\n",
    "from pydrake.geometry import (\n",
    "    ClippingRange,\n",
    "    ColorRenderCamera,\n",
    "    DepthRange,\n",
    "    DepthRenderCamera,\n",
    "    MakeRenderEngineVtk,\n",
    "    RenderCameraCore,\n",
    "    RenderEngineVtkParams,\n",
    "    RenderLabel,\n",
    "    Role,\n",
    "    StartMeshcat,\n",
    ")\n",
    "from pydrake.math import RigidTransform, RollPitchYaw\n",
    "from pydrake.multibody.parsing import Parser\n",
    "from pydrake.multibody.plant import AddMultibodyPlantSceneGraph\n",
    "from pydrake.multibody.tree import BodyIndex\n",
    "from pydrake.systems.analysis import Simulator\n",
    "from pydrake.systems.framework import DiagramBuilder\n",
    "from pydrake.systems.sensors import (\n",
    "    CameraInfo,\n",
    "    RgbdSensor,\n",
    ")\n",
    "from pydrake.visualization import (\n",
    "    AddDefaultVisualization,\n",
    "    ColorizeDepthImage,\n",
    "    ColorizeLabelImage,\n",
    ")\n",
    "\n",
    "from manipulation.utils import RenderDiagram"
   ]
  },
  {
   "cell_type": "code",
   "execution_count": 2,
   "metadata": {},
   "outputs": [],
   "source": [
    "URDF_FILE = \"./urdf/wx250s.urdf.xacro\"\n",
    "# BASE_LINK_NAME = \"base_link\""
   ]
  },
  {
   "cell_type": "code",
   "execution_count": 3,
   "metadata": {},
   "outputs": [],
   "source": [
    "# helpers\n",
    "def xyz_rpy_deg(xyz, rpy_deg):\n",
    "    \"\"\"Shorthand for defining a pose.\"\"\"\n",
    "    rpy_deg = np.asarray(rpy_deg)\n",
    "    return RigidTransform(RollPitchYaw(rpy_deg * np.pi / 180), xyz)"
   ]
  },
  {
   "cell_type": "code",
   "execution_count": 4,
   "metadata": {},
   "outputs": [
    {
     "name": "stderr",
     "output_type": "stream",
     "text": [
      "INFO:drake:Meshcat listening for connections at http://localhost:7002\n"
     ]
    }
   ],
   "source": [
    "meshcat = StartMeshcat()"
   ]
  },
  {
   "cell_type": "code",
   "execution_count": 5,
   "metadata": {},
   "outputs": [],
   "source": [
    "# create diagram builder with plant and scene graph\n",
    "builder = DiagramBuilder()\n",
    "plant, scene_graph = AddMultibodyPlantSceneGraph(builder, time_step=0.0)"
   ]
  },
  {
   "cell_type": "code",
   "execution_count": 6,
   "metadata": {},
   "outputs": [
    {
     "ename": "RuntimeError",
     "evalue": "error: The file './urdf/wx250s.urdf.xacro' is not a recognized type. Known types are: .urdf, .sdf, .xml (Mujoco), .dmd.yaml, .obj",
     "output_type": "error",
     "traceback": [
      "\u001b[0;31m---------------------------------------------------------------------------\u001b[0m",
      "\u001b[0;31mRuntimeError\u001b[0m                              Traceback (most recent call last)",
      "Cell \u001b[0;32mIn[6], line 2\u001b[0m\n\u001b[1;32m      1\u001b[0m \u001b[38;5;66;03m# add robot\u001b[39;00m\n\u001b[0;32m----> 2\u001b[0m (robot,) \u001b[38;5;241m=\u001b[39m \u001b[43mParser\u001b[49m\u001b[43m(\u001b[49m\u001b[43mplant\u001b[49m\u001b[43m,\u001b[49m\u001b[43m \u001b[49m\u001b[38;5;124;43mf\u001b[39;49m\u001b[38;5;124;43m\"\u001b[39;49m\u001b[38;5;132;43;01m{\u001b[39;49;00m\u001b[43mURDF_FILE\u001b[49m\u001b[38;5;132;43;01m}\u001b[39;49;00m\u001b[38;5;124;43m\"\u001b[39;49m\u001b[43m)\u001b[49m\u001b[38;5;241;43m.\u001b[39;49m\u001b[43mAddModels\u001b[49m\u001b[43m(\u001b[49m\u001b[43mURDF_FILE\u001b[49m\u001b[43m)\u001b[49m\n\u001b[1;32m      3\u001b[0m plant\u001b[38;5;241m.\u001b[39mWeldFrames(\n\u001b[1;32m      4\u001b[0m     frame_on_parent_F\u001b[38;5;241m=\u001b[39mplant\u001b[38;5;241m.\u001b[39mworld_frame(),\n\u001b[1;32m      5\u001b[0m     \u001b[38;5;66;03m# frame_on_child_M=plant.GetFrameByName(f\"{BASE_LINK_NAME}\", robot)\u001b[39;00m\n\u001b[1;32m      6\u001b[0m )\n",
      "\u001b[0;31mRuntimeError\u001b[0m: error: The file './urdf/wx250s.urdf.xacro' is not a recognized type. Known types are: .urdf, .sdf, .xml (Mujoco), .dmd.yaml, .obj"
     ]
    }
   ],
   "source": [
    "# add robot\n",
    "(robot,) = Parser(plant, f\"{URDF_FILE}\").AddModels(URDF_FILE)\n",
    "plant.WeldFrames(\n",
    "    frame_on_parent_F=plant.world_frame(),\n",
    "    # frame_on_child_M=plant.GetFrameByName(f\"{BASE_LINK_NAME}\", robot)\n",
    ")"
   ]
  }
 ],
 "metadata": {
  "kernelspec": {
   "display_name": "Python 3",
   "language": "python",
   "name": "python3"
  },
  "language_info": {
   "codemirror_mode": {
    "name": "ipython",
    "version": 3
   },
   "file_extension": ".py",
   "mimetype": "text/x-python",
   "name": "python",
   "nbconvert_exporter": "python",
   "pygments_lexer": "ipython3",
   "version": "3.12.4"
  }
 },
 "nbformat": 4,
 "nbformat_minor": 2
}
